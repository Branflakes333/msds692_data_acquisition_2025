{
 "cells": [
  {
   "cell_type": "markdown",
   "id": "abcff18a",
   "metadata": {},
   "source": [
    "Using the DATA_GOV_API_KEY, retrieve data from `https://data.sfgov.org/resource/wg3w-h783`, SF Police Department Report Data.\n",
    "\n",
    "complete store_to_gcs() to store retrieved data to GCS, and retrieve_data_from_gcs() to retrieve data from GCS.\n",
    "- store_to_gcs(service_account_key, project_id, bucket_name, file_name, data) : upload data as file_name on the given gcs.\n",
    "- retrieve_data_from_gcs(service_account_key, project_id, bucket_name, file_name, key_list) : return a list of list which includes values corresponding to keys in key_list.\n",
    "If \n",
    "```\n",
    "key_list = ['incident_datetime', 'report_datetime', 'incident_code',\n",
    "            'incident_category', 'incident_description', 'latitude',\n",
    "            'longitude', 'police_district']\n",
    "```\n",
    "This should return\n",
    "```\n",
    "[['2025-08-26T23:17:00.000',\n",
    "  '2025-08-26T23:17:00.000',\n",
    "  '07041',\n",
    "  'Recovered Vehicle',\n",
    "  'Vehicle, Recovered, Auto',\n",
    "  None,\n",
    "  None,\n",
    "  'Out of SF'],\n",
    " ['2025-08-27T00:37:00.000',\n",
    "  '2025-08-27T00:37:00.000',\n",
    "  '04134',\n",
    "  'Assault',\n",
    "  'Battery',\n",
    "  '37.78041458129883',\n",
    "  '-122.44901275634766',\n",
    "  'Park'],....]\n",
    "```\n",
    "If a key doesn't exist, its value should be `None`"
   ]
  },
  {
   "cell_type": "code",
   "execution_count": 2,
   "id": "58311aac",
   "metadata": {},
   "outputs": [],
   "source": [
    "import datetime\n",
    "import json\n",
    "import os \n",
    "\n",
    "from dotenv import load_dotenv\n",
    "from google.oauth2 import service_account\n",
    "from google.cloud import storage\n",
    "import requests"
   ]
  },
  {
   "cell_type": "code",
   "execution_count": 3,
   "id": "d4beeb07",
   "metadata": {},
   "outputs": [],
   "source": [
    "load_dotenv()\n",
    "\n",
    "api_key = os.getenv(\"DATA_GOV_API_KEY\")"
   ]
  },
  {
   "cell_type": "markdown",
   "id": "b776af2c",
   "metadata": {},
   "source": [
    "- Typically authorization in a header uses the format of..\n",
    "```\n",
    "headers = {\"Authorization\": f\"Bearer {api_key}\", \"Content-Type\": \"application/json\"}\n",
    "```\n",
    "However, based on the [documentaiton](https://api.data.gov/docs/developer-manual/), I followed the following format.\n",
    "\n",
    "Also, the data specific meta data and details can be searchable. (Ex.[link](https://data.sfgov.org/Public-Safety/Police-Department-Incident-Reports-2018-to-Present/wg3w-h783/about_data))"
   ]
  },
  {
   "cell_type": "code",
   "execution_count": 4,
   "id": "6e1407e7",
   "metadata": {},
   "outputs": [],
   "source": [
    "url = 'https://data.sfgov.org/resource/wg3w-h783'\n",
    "header = {'X-Api-Key':api_key} \n",
    "\n",
    "response = requests.get(url, headers=header)"
   ]
  },
  {
   "cell_type": "code",
   "execution_count": 5,
   "id": "7be9a22f",
   "metadata": {},
   "outputs": [],
   "source": [
    "data = response.json()"
   ]
  },
  {
   "cell_type": "markdown",
   "id": "b86a1d10",
   "metadata": {},
   "source": [
    "Create store_to_gcs(service_account_key, project_id, bucket_name, file_name, data) which upload data as file_name on the given gcs."
   ]
  },
  {
   "cell_type": "code",
   "execution_count": 6,
   "id": "95acd0d5",
   "metadata": {},
   "outputs": [],
   "source": [
    "def store_to_gcs(service_account_key: str,\n",
    "                 project_id: str,\n",
    "                 bucket_name: str,\n",
    "                 file_name: str,\n",
    "                 data: str) -> None:    \n",
    "    credentials = service_account.Credentials.from_service_account_file(service_account_key)\n",
    "    client = storage.Client(project=project_id,\n",
    "                            credentials=credentials)\n",
    "    bucket = client.bucket(bucket_name)\n",
    "    file = bucket.blob(file_name)\n",
    "    file.upload_from_string(data)"
   ]
  },
  {
   "cell_type": "code",
   "execution_count": 7,
   "id": "dff2cf2b",
   "metadata": {},
   "outputs": [
    {
     "ename": "TypeError",
     "evalue": "expected str, bytes or os.PathLike object, not NoneType",
     "output_type": "error",
     "traceback": [
      "\u001b[31m---------------------------------------------------------------------------\u001b[39m",
      "\u001b[31mTypeError\u001b[39m                                 Traceback (most recent call last)",
      "\u001b[36mCell\u001b[39m\u001b[36m \u001b[39m\u001b[32mIn[7]\u001b[39m\u001b[32m, line 5\u001b[39m\n\u001b[32m      3\u001b[39m bucket_name = os.getenv(\u001b[33m\"\u001b[39m\u001b[33mGCP_BUCKET_NAME\u001b[39m\u001b[33m\"\u001b[39m)\n\u001b[32m      4\u001b[39m file_name = \u001b[33mf\u001b[39m\u001b[33m\"\u001b[39m\u001b[33msf_police_report/\u001b[39m\u001b[38;5;132;01m{\u001b[39;00mdatetime.date.today()\u001b[38;5;132;01m}\u001b[39;00m\u001b[33m.json\u001b[39m\u001b[33m\"\u001b[39m\n\u001b[32m----> \u001b[39m\u001b[32m5\u001b[39m \u001b[43mstore_to_gcs\u001b[49m\u001b[43m(\u001b[49m\u001b[43mservice_account_key\u001b[49m\u001b[43m,\u001b[49m\n\u001b[32m      6\u001b[39m \u001b[43m            \u001b[49m\u001b[43mproject_id\u001b[49m\u001b[43m,\u001b[49m\n\u001b[32m      7\u001b[39m \u001b[43m            \u001b[49m\u001b[43mbucket_name\u001b[49m\u001b[43m,\u001b[49m\n\u001b[32m      8\u001b[39m \u001b[43m            \u001b[49m\u001b[43mfile_name\u001b[49m\u001b[43m,\u001b[49m\n\u001b[32m      9\u001b[39m \u001b[43m            \u001b[49m\u001b[43mjson\u001b[49m\u001b[43m.\u001b[49m\u001b[43mdumps\u001b[49m\u001b[43m(\u001b[49m\u001b[43mdata\u001b[49m\u001b[43m,\u001b[49m\u001b[43m \u001b[49m\u001b[43mindent\u001b[49m\u001b[43m=\u001b[49m\u001b[32;43m4\u001b[39;49m\u001b[43m)\u001b[49m\u001b[43m)\u001b[49m\n",
      "\u001b[36mCell\u001b[39m\u001b[36m \u001b[39m\u001b[32mIn[6]\u001b[39m\u001b[32m, line 6\u001b[39m, in \u001b[36mstore_to_gcs\u001b[39m\u001b[34m(service_account_key, project_id, bucket_name, file_name, data)\u001b[39m\n\u001b[32m      1\u001b[39m \u001b[38;5;28;01mdef\u001b[39;00m\u001b[38;5;250m \u001b[39m\u001b[34mstore_to_gcs\u001b[39m(service_account_key: \u001b[38;5;28mstr\u001b[39m,\n\u001b[32m      2\u001b[39m                  project_id: \u001b[38;5;28mstr\u001b[39m,\n\u001b[32m      3\u001b[39m                  bucket_name: \u001b[38;5;28mstr\u001b[39m,\n\u001b[32m      4\u001b[39m                  file_name: \u001b[38;5;28mstr\u001b[39m,\n\u001b[32m      5\u001b[39m                  data: \u001b[38;5;28mstr\u001b[39m) -> \u001b[38;5;28;01mNone\u001b[39;00m:    \n\u001b[32m----> \u001b[39m\u001b[32m6\u001b[39m     credentials = \u001b[43mservice_account\u001b[49m\u001b[43m.\u001b[49m\u001b[43mCredentials\u001b[49m\u001b[43m.\u001b[49m\u001b[43mfrom_service_account_file\u001b[49m\u001b[43m(\u001b[49m\u001b[43mservice_account_key\u001b[49m\u001b[43m)\u001b[49m\n\u001b[32m      7\u001b[39m     client = storage.Client(project=project_id,\n\u001b[32m      8\u001b[39m                             credentials=credentials)\n\u001b[32m      9\u001b[39m     bucket = client.bucket(bucket_name)\n",
      "\u001b[36mFile \u001b[39m\u001b[32m/opt/homebrew/Caskroom/miniconda/base/envs/data_aquisition/lib/python3.13/site-packages/google/oauth2/service_account.py:260\u001b[39m, in \u001b[36mCredentials.from_service_account_file\u001b[39m\u001b[34m(cls, filename, **kwargs)\u001b[39m\n\u001b[32m    248\u001b[39m \u001b[38;5;129m@classmethod\u001b[39m\n\u001b[32m    249\u001b[39m \u001b[38;5;28;01mdef\u001b[39;00m\u001b[38;5;250m \u001b[39m\u001b[34mfrom_service_account_file\u001b[39m(\u001b[38;5;28mcls\u001b[39m, filename, **kwargs):\n\u001b[32m    250\u001b[39m \u001b[38;5;250m    \u001b[39m\u001b[33;03m\"\"\"Creates a Credentials instance from a service account json file.\u001b[39;00m\n\u001b[32m    251\u001b[39m \n\u001b[32m    252\u001b[39m \u001b[33;03m    Args:\u001b[39;00m\n\u001b[32m   (...)\u001b[39m\u001b[32m    258\u001b[39m \u001b[33;03m            credentials.\u001b[39;00m\n\u001b[32m    259\u001b[39m \u001b[33;03m    \"\"\"\u001b[39;00m\n\u001b[32m--> \u001b[39m\u001b[32m260\u001b[39m     info, signer = \u001b[43m_service_account_info\u001b[49m\u001b[43m.\u001b[49m\u001b[43mfrom_filename\u001b[49m\u001b[43m(\u001b[49m\n\u001b[32m    261\u001b[39m \u001b[43m        \u001b[49m\u001b[43mfilename\u001b[49m\u001b[43m,\u001b[49m\u001b[43m \u001b[49m\u001b[43mrequire\u001b[49m\u001b[43m=\u001b[49m\u001b[43m[\u001b[49m\u001b[33;43m\"\u001b[39;49m\u001b[33;43mclient_email\u001b[39;49m\u001b[33;43m\"\u001b[39;49m\u001b[43m,\u001b[49m\u001b[43m \u001b[49m\u001b[33;43m\"\u001b[39;49m\u001b[33;43mtoken_uri\u001b[39;49m\u001b[33;43m\"\u001b[39;49m\u001b[43m]\u001b[49m\n\u001b[32m    262\u001b[39m \u001b[43m    \u001b[49m\u001b[43m)\u001b[49m\n\u001b[32m    263\u001b[39m     \u001b[38;5;28;01mreturn\u001b[39;00m \u001b[38;5;28mcls\u001b[39m._from_signer_and_info(signer, info, **kwargs)\n",
      "\u001b[36mFile \u001b[39m\u001b[32m/opt/homebrew/Caskroom/miniconda/base/envs/data_aquisition/lib/python3.13/site-packages/google/auth/_service_account_info.py:78\u001b[39m, in \u001b[36mfrom_filename\u001b[39m\u001b[34m(filename, require, use_rsa_signer)\u001b[39m\n\u001b[32m     64\u001b[39m \u001b[38;5;28;01mdef\u001b[39;00m\u001b[38;5;250m \u001b[39m\u001b[34mfrom_filename\u001b[39m(filename, require=\u001b[38;5;28;01mNone\u001b[39;00m, use_rsa_signer=\u001b[38;5;28;01mTrue\u001b[39;00m):\n\u001b[32m     65\u001b[39m \u001b[38;5;250m    \u001b[39m\u001b[33;03m\"\"\"Reads a Google service account JSON file and returns its parsed info.\u001b[39;00m\n\u001b[32m     66\u001b[39m \n\u001b[32m     67\u001b[39m \u001b[33;03m    Args:\u001b[39;00m\n\u001b[32m   (...)\u001b[39m\u001b[32m     76\u001b[39m \u001b[33;03m            info and a signer instance.\u001b[39;00m\n\u001b[32m     77\u001b[39m \u001b[33;03m    \"\"\"\u001b[39;00m\n\u001b[32m---> \u001b[39m\u001b[32m78\u001b[39m     \u001b[38;5;28;01mwith\u001b[39;00m \u001b[43mio\u001b[49m\u001b[43m.\u001b[49m\u001b[43mopen\u001b[49m\u001b[43m(\u001b[49m\u001b[43mfilename\u001b[49m\u001b[43m,\u001b[49m\u001b[43m \u001b[49m\u001b[33;43m\"\u001b[39;49m\u001b[33;43mr\u001b[39;49m\u001b[33;43m\"\u001b[39;49m\u001b[43m,\u001b[49m\u001b[43m \u001b[49m\u001b[43mencoding\u001b[49m\u001b[43m=\u001b[49m\u001b[33;43m\"\u001b[39;49m\u001b[33;43mutf-8\u001b[39;49m\u001b[33;43m\"\u001b[39;49m\u001b[43m)\u001b[49m \u001b[38;5;28;01mas\u001b[39;00m json_file:\n\u001b[32m     79\u001b[39m         data = json.load(json_file)\n\u001b[32m     80\u001b[39m         \u001b[38;5;28;01mreturn\u001b[39;00m data, from_dict(data, require=require, use_rsa_signer=use_rsa_signer)\n",
      "\u001b[31mTypeError\u001b[39m: expected str, bytes or os.PathLike object, not NoneType"
     ]
    }
   ],
   "source": [
    "service_account_key = os.getenv(\"GCP_SERVICE_ACCOUNT_KEY\")\n",
    "project_id = os.getenv(\"GCP_PROJECT_ID\")\n",
    "bucket_name = os.getenv(\"GCP_BUCKET_NAME\")\n",
    "file_name = f\"sf_police_report/{datetime.date.today()}.json\"\n",
    "store_to_gcs(service_account_key,\n",
    "            project_id,\n",
    "            bucket_name,\n",
    "            file_name,\n",
    "            json.dumps(data, indent=4))"
   ]
  },
  {
   "cell_type": "markdown",
   "id": "86b73733",
   "metadata": {},
   "source": [
    "Complete retrieve_data_from_gcs() to return a list of list which includes values corresponding to keys in key_list.\n",
    "If \n",
    "```\n",
    "key_list = ['incident_datetime', 'report_datetime', 'incident_code',\n",
    "            'incident_category', 'incident_description', 'latitude',\n",
    "            'longitude', 'police_district']\n",
    "```\n",
    "This should return\n",
    "```\n",
    "[['2025-08-26T23:17:00.000',\n",
    "  '2025-08-26T23:17:00.000',\n",
    "  '07041',\n",
    "  'Recovered Vehicle',\n",
    "  'Vehicle, Recovered, Auto',\n",
    "  None,\n",
    "  None,\n",
    "  'Out of SF'],\n",
    " ['2025-08-27T00:37:00.000',\n",
    "  '2025-08-27T00:37:00.000',\n",
    "  '04134',\n",
    "  'Assault',\n",
    "  'Battery',\n",
    "  '37.78041458129883',\n",
    "  '-122.44901275634766',\n",
    "  'Park'],....]\n",
    "```\n",
    "If a key doesn't exist, its value should be `None`"
   ]
  },
  {
   "cell_type": "code",
   "execution_count": null,
   "id": "6e81f1ec",
   "metadata": {},
   "outputs": [],
   "source": [
    "def retrieve_data_from_gcs(service_account_key: str,\n",
    "                           project_id: str,\n",
    "                           bucket_name: str,\n",
    "                           file_name: str,\n",
    "                           key_list: list\n",
    "                           ) -> list:\n",
    "    credentials = service_account.Credentials.from_service_account_file(service_account_key)\n",
    "    client = storage.Client(project=project_id,\n",
    "                            credentials=credentials)\n",
    "    bucket = client.bucket(bucket_name)\n",
    "    file = bucket.blob(file_name)\n",
    "    content = json.loads(file.download_as_string())\n",
    "\n",
    "    output = []\n",
    "    for data in content:\n",
    "        row = []\n",
    "        \n",
    "        for key in key_list:\n",
    "            row.append(data.get(key, None))\n",
    "        output.append(row)\n",
    "    return output"
   ]
  },
  {
   "cell_type": "code",
   "execution_count": null,
   "id": "c34885d5",
   "metadata": {},
   "outputs": [],
   "source": [
    "key_list = ['incident_datetime', 'report_datetime', 'incident_code',\n",
    "            'incident_category', 'incident_description', 'latitude',\n",
    "            'longitude', 'police_district']\n",
    "data = retrieve_data_from_gcs(service_account_key, \n",
    "                              project_id,\n",
    "                              bucket_name,\n",
    "                              f\"sf_police_report/{datetime.date.today()}.json\",\n",
    "                              key_list)"
   ]
  },
  {
   "cell_type": "code",
   "execution_count": null,
   "id": "59ee1084",
   "metadata": {},
   "outputs": [
    {
     "data": {
      "text/plain": [
       "[['2025-08-26T23:17:00.000',\n",
       "  '2025-08-26T23:17:00.000',\n",
       "  '07041',\n",
       "  'Recovered Vehicle',\n",
       "  'Vehicle, Recovered, Auto',\n",
       "  None,\n",
       "  None,\n",
       "  'Out of SF'],\n",
       " ['2025-08-27T00:37:00.000',\n",
       "  '2025-08-27T00:37:00.000',\n",
       "  '04134',\n",
       "  'Assault',\n",
       "  'Battery',\n",
       "  '37.78041458129883',\n",
       "  '-122.44901275634766',\n",
       "  'Park'],\n",
       " ['2025-07-17T15:00:00.000',\n",
       "  '2025-08-27T11:55:00.000',\n",
       "  '09027',\n",
       "  'Fraud',\n",
       "  'False Personation',\n",
       "  '37.775177001953125',\n",
       "  '-122.45135498046875',\n",
       "  'Park'],\n",
       " ['2025-08-23T21:30:00.000',\n",
       "  '2025-08-24T14:53:00.000',\n",
       "  '06244',\n",
       "  'Larceny Theft',\n",
       "  'Theft, From Locked Vehicle, >$950',\n",
       "  '37.77455139160156',\n",
       "  '-122.42250061035156',\n",
       "  'Northern'],\n",
       " ['2025-08-15T12:00:00.000',\n",
       "  '2025-08-24T19:10:00.000',\n",
       "  '71000',\n",
       "  'Lost Property',\n",
       "  'Lost Property',\n",
       "  '37.76966094970703',\n",
       "  '-122.44964599609375',\n",
       "  'Park'],\n",
       " ['2025-08-15T21:45:00.000',\n",
       "  '2025-08-16T10:39:00.000',\n",
       "  '07026',\n",
       "  'Motor Vehicle Theft',\n",
       "  'Vehicle, Stolen, Other Vehicle',\n",
       "  '37.77157211303711',\n",
       "  '-122.44218444824219',\n",
       "  'Park']]"
      ]
     },
     "execution_count": 28,
     "metadata": {},
     "output_type": "execute_result"
    }
   ],
   "source": [
    "data[:6]"
   ]
  },
  {
   "cell_type": "code",
   "execution_count": null,
   "id": "2c0d0065",
   "metadata": {},
   "outputs": [],
   "source": []
  }
 ],
 "metadata": {
  "kernelspec": {
   "display_name": "data_aquisition",
   "language": "python",
   "name": "python3"
  },
  "language_info": {
   "codemirror_mode": {
    "name": "ipython",
    "version": 3
   },
   "file_extension": ".py",
   "mimetype": "text/x-python",
   "name": "python",
   "nbconvert_exporter": "python",
   "pygments_lexer": "ipython3",
   "version": "3.13.5"
  }
 },
 "nbformat": 4,
 "nbformat_minor": 5
}
