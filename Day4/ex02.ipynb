{
 "cells": [
  {
   "cell_type": "markdown",
   "id": "132eeed5",
   "metadata": {},
   "source": [
    "Retreive 20 records including the last 4 columns from the GCS's file generated from ex01.ipynb\n",
    "Using \"gemini-2.5-flash\", ask it to summarize the reports.\n",
    "\n",
    "- Pre-requisite : Generate API keys through [Google AI Studio](https://aistudio.google.com/app/apikey)"
   ]
  },
  {
   "cell_type": "code",
   "execution_count": 1,
   "id": "d1068095",
   "metadata": {},
   "outputs": [],
   "source": [
    "import json\n",
    "import os\n",
    "\n",
    "from dotenv import load_dotenv\n",
    "from google import genai\n",
    "from google.oauth2 import service_account\n",
    "from google.cloud import storage"
   ]
  },
  {
   "cell_type": "code",
   "execution_count": 2,
   "id": "45a6bf8d",
   "metadata": {},
   "outputs": [
    {
     "data": {
      "text/plain": [
       "True"
      ]
     },
     "execution_count": 2,
     "metadata": {},
     "output_type": "execute_result"
    }
   ],
   "source": [
    "load_dotenv(dotenv_path='../.env')"
   ]
  },
  {
   "cell_type": "code",
   "execution_count": 3,
   "id": "3a13d0fa",
   "metadata": {},
   "outputs": [],
   "source": [
    "genai_api_key = os.getenv(\"GCP_GENAI_API_KEY\")\n",
    "service_account_key = os.getenv(\"GCP_SERVICE_ACCOUNT_KEY\")\n",
    "project_id = os.getenv(\"GCP_PROJECT_ID\")\n",
    "bucket_name = os.getenv(\"GCP_BUCKET_NAME\")\n",
    "file_name = f\"sf_police_report/2025-09-01.json\""
   ]
  },
  {
   "cell_type": "code",
   "execution_count": 4,
   "id": "5abe6c3d",
   "metadata": {},
   "outputs": [],
   "source": [
    "def retrieve_data_from_gcs(service_account_key: str,\n",
    "                           project_id: str,\n",
    "                           bucket_name: str,\n",
    "                           file_name: str,\n",
    "                           key_list: list\n",
    "                           ) -> list:\n",
    "    credentials = service_account.Credentials.from_service_account_file(service_account_key)\n",
    "    client = storage.Client(project=project_id,\n",
    "                            credentials=credentials)\n",
    "    bucket = client.bucket(bucket_name)\n",
    "    file = bucket.blob(file_name)\n",
    "    content = json.loads(file.download_as_string())\n",
    "\n",
    "    output = []\n",
    "    for data in content:\n",
    "        row = []\n",
    "        \n",
    "        for key in key_list:\n",
    "            row.append(data.get(key, None))\n",
    "        output.append(row)\n",
    "    return output"
   ]
  },
  {
   "cell_type": "code",
   "execution_count": 5,
   "id": "f0465630",
   "metadata": {},
   "outputs": [
    {
     "ename": "NotFound",
     "evalue": "404 GET https://storage.googleapis.com/download/storage/v1/b/msds692-class-example-bjm/o/sf_police_report%2F2025-09-01.json?alt=media: No such object: msds692-class-example-bjm/sf_police_report/2025-09-01.json: ('Request failed with status code', 404, 'Expected one of', <HTTPStatus.OK: 200>, <HTTPStatus.PARTIAL_CONTENT: 206>)",
     "output_type": "error",
     "traceback": [
      "\u001b[31m---------------------------------------------------------------------------\u001b[39m",
      "\u001b[31mInvalidResponse\u001b[39m                           Traceback (most recent call last)",
      "\u001b[36mFile \u001b[39m\u001b[32m/opt/homebrew/Caskroom/miniconda/base/envs/data_aquisition/lib/python3.13/site-packages/google/cloud/storage/blob.py:4401\u001b[39m, in \u001b[36mBlob._prep_and_do_download\u001b[39m\u001b[34m(self, file_obj, client, start, end, raw_download, if_etag_match, if_etag_not_match, if_generation_match, if_generation_not_match, if_metageneration_match, if_metageneration_not_match, timeout, checksum, retry, single_shot_download, command)\u001b[39m\n\u001b[32m   4400\u001b[39m \u001b[38;5;28;01mtry\u001b[39;00m:\n\u001b[32m-> \u001b[39m\u001b[32m4401\u001b[39m     \u001b[38;5;28;43mself\u001b[39;49m\u001b[43m.\u001b[49m\u001b[43m_do_download\u001b[49m\u001b[43m(\u001b[49m\n\u001b[32m   4402\u001b[39m \u001b[43m        \u001b[49m\u001b[43mtransport\u001b[49m\u001b[43m,\u001b[49m\n\u001b[32m   4403\u001b[39m \u001b[43m        \u001b[49m\u001b[43mfile_obj\u001b[49m\u001b[43m,\u001b[49m\n\u001b[32m   4404\u001b[39m \u001b[43m        \u001b[49m\u001b[43mdownload_url\u001b[49m\u001b[43m,\u001b[49m\n\u001b[32m   4405\u001b[39m \u001b[43m        \u001b[49m\u001b[43mheaders\u001b[49m\u001b[43m,\u001b[49m\n\u001b[32m   4406\u001b[39m \u001b[43m        \u001b[49m\u001b[43mstart\u001b[49m\u001b[43m,\u001b[49m\n\u001b[32m   4407\u001b[39m \u001b[43m        \u001b[49m\u001b[43mend\u001b[49m\u001b[43m,\u001b[49m\n\u001b[32m   4408\u001b[39m \u001b[43m        \u001b[49m\u001b[43mraw_download\u001b[49m\u001b[43m,\u001b[49m\n\u001b[32m   4409\u001b[39m \u001b[43m        \u001b[49m\u001b[43mtimeout\u001b[49m\u001b[43m=\u001b[49m\u001b[43mtimeout\u001b[49m\u001b[43m,\u001b[49m\n\u001b[32m   4410\u001b[39m \u001b[43m        \u001b[49m\u001b[43mchecksum\u001b[49m\u001b[43m=\u001b[49m\u001b[43mchecksum\u001b[49m\u001b[43m,\u001b[49m\n\u001b[32m   4411\u001b[39m \u001b[43m        \u001b[49m\u001b[43mretry\u001b[49m\u001b[43m=\u001b[49m\u001b[43mretry\u001b[49m\u001b[43m,\u001b[49m\n\u001b[32m   4412\u001b[39m \u001b[43m        \u001b[49m\u001b[43msingle_shot_download\u001b[49m\u001b[43m=\u001b[49m\u001b[43msingle_shot_download\u001b[49m\u001b[43m,\u001b[49m\n\u001b[32m   4413\u001b[39m \u001b[43m    \u001b[49m\u001b[43m)\u001b[49m\n\u001b[32m   4414\u001b[39m \u001b[38;5;28;01mexcept\u001b[39;00m InvalidResponse \u001b[38;5;28;01mas\u001b[39;00m exc:\n",
      "\u001b[36mFile \u001b[39m\u001b[32m/opt/homebrew/Caskroom/miniconda/base/envs/data_aquisition/lib/python3.13/site-packages/google/cloud/storage/blob.py:1094\u001b[39m, in \u001b[36mBlob._do_download\u001b[39m\u001b[34m(self, transport, file_obj, download_url, headers, start, end, raw_download, timeout, checksum, retry, single_shot_download)\u001b[39m\n\u001b[32m   1089\u001b[39m \u001b[38;5;28;01mwith\u001b[39;00m create_trace_span(\n\u001b[32m   1090\u001b[39m     name=\u001b[33mf\u001b[39m\u001b[33m\"\u001b[39m\u001b[33mStorage.\u001b[39m\u001b[38;5;132;01m{\u001b[39;00mdownload_class\u001b[38;5;132;01m}\u001b[39;00m\u001b[33m/consume\u001b[39m\u001b[33m\"\u001b[39m,\n\u001b[32m   1091\u001b[39m     attributes=extra_attributes,\n\u001b[32m   1092\u001b[39m     api_request=args,\n\u001b[32m   1093\u001b[39m ):\n\u001b[32m-> \u001b[39m\u001b[32m1094\u001b[39m     response = \u001b[43mdownload\u001b[49m\u001b[43m.\u001b[49m\u001b[43mconsume\u001b[49m\u001b[43m(\u001b[49m\u001b[43mtransport\u001b[49m\u001b[43m,\u001b[49m\u001b[43m \u001b[49m\u001b[43mtimeout\u001b[49m\u001b[43m=\u001b[49m\u001b[43mtimeout\u001b[49m\u001b[43m)\u001b[49m\n\u001b[32m   1095\u001b[39m     \u001b[38;5;28mself\u001b[39m._extract_headers_from_download(response)\n",
      "\u001b[36mFile \u001b[39m\u001b[32m/opt/homebrew/Caskroom/miniconda/base/envs/data_aquisition/lib/python3.13/site-packages/google/cloud/storage/_media/requests/download.py:280\u001b[39m, in \u001b[36mDownload.consume\u001b[39m\u001b[34m(self, transport, timeout)\u001b[39m\n\u001b[32m    278\u001b[39m     \u001b[38;5;28;01mreturn\u001b[39;00m result\n\u001b[32m--> \u001b[39m\u001b[32m280\u001b[39m \u001b[38;5;28;01mreturn\u001b[39;00m \u001b[43m_request_helpers\u001b[49m\u001b[43m.\u001b[49m\u001b[43mwait_and_retry\u001b[49m\u001b[43m(\u001b[49m\u001b[43mretriable_request\u001b[49m\u001b[43m,\u001b[49m\u001b[43m \u001b[49m\u001b[38;5;28;43mself\u001b[39;49m\u001b[43m.\u001b[49m\u001b[43m_retry_strategy\u001b[49m\u001b[43m)\u001b[49m\n",
      "\u001b[36mFile \u001b[39m\u001b[32m/opt/homebrew/Caskroom/miniconda/base/envs/data_aquisition/lib/python3.13/site-packages/google/cloud/storage/_media/requests/_request_helpers.py:107\u001b[39m, in \u001b[36mwait_and_retry\u001b[39m\u001b[34m(func, retry_strategy)\u001b[39m\n\u001b[32m    106\u001b[39m     func = retry_strategy(func)\n\u001b[32m--> \u001b[39m\u001b[32m107\u001b[39m \u001b[38;5;28;01mreturn\u001b[39;00m \u001b[43mfunc\u001b[49m\u001b[43m(\u001b[49m\u001b[43m)\u001b[49m\n",
      "\u001b[36mFile \u001b[39m\u001b[32m/opt/homebrew/Caskroom/miniconda/base/envs/data_aquisition/lib/python3.13/site-packages/google/api_core/retry/retry_unary.py:293\u001b[39m, in \u001b[36mRetry.__call__.<locals>.retry_wrapped_func\u001b[39m\u001b[34m(*args, **kwargs)\u001b[39m\n\u001b[32m    290\u001b[39m sleep_generator = exponential_sleep_generator(\n\u001b[32m    291\u001b[39m     \u001b[38;5;28mself\u001b[39m._initial, \u001b[38;5;28mself\u001b[39m._maximum, multiplier=\u001b[38;5;28mself\u001b[39m._multiplier\n\u001b[32m    292\u001b[39m )\n\u001b[32m--> \u001b[39m\u001b[32m293\u001b[39m \u001b[38;5;28;01mreturn\u001b[39;00m \u001b[43mretry_target\u001b[49m\u001b[43m(\u001b[49m\n\u001b[32m    294\u001b[39m \u001b[43m    \u001b[49m\u001b[43mtarget\u001b[49m\u001b[43m,\u001b[49m\n\u001b[32m    295\u001b[39m \u001b[43m    \u001b[49m\u001b[38;5;28;43mself\u001b[39;49m\u001b[43m.\u001b[49m\u001b[43m_predicate\u001b[49m\u001b[43m,\u001b[49m\n\u001b[32m    296\u001b[39m \u001b[43m    \u001b[49m\u001b[43msleep_generator\u001b[49m\u001b[43m,\u001b[49m\n\u001b[32m    297\u001b[39m \u001b[43m    \u001b[49m\u001b[43mtimeout\u001b[49m\u001b[43m=\u001b[49m\u001b[38;5;28;43mself\u001b[39;49m\u001b[43m.\u001b[49m\u001b[43m_timeout\u001b[49m\u001b[43m,\u001b[49m\n\u001b[32m    298\u001b[39m \u001b[43m    \u001b[49m\u001b[43mon_error\u001b[49m\u001b[43m=\u001b[49m\u001b[43mon_error\u001b[49m\u001b[43m,\u001b[49m\n\u001b[32m    299\u001b[39m \u001b[43m\u001b[49m\u001b[43m)\u001b[49m\n",
      "\u001b[36mFile \u001b[39m\u001b[32m/opt/homebrew/Caskroom/miniconda/base/envs/data_aquisition/lib/python3.13/site-packages/google/api_core/retry/retry_unary.py:153\u001b[39m, in \u001b[36mretry_target\u001b[39m\u001b[34m(target, predicate, sleep_generator, timeout, on_error, exception_factory, **kwargs)\u001b[39m\n\u001b[32m    151\u001b[39m \u001b[38;5;28;01mexcept\u001b[39;00m \u001b[38;5;167;01mException\u001b[39;00m \u001b[38;5;28;01mas\u001b[39;00m exc:\n\u001b[32m    152\u001b[39m     \u001b[38;5;66;03m# defer to shared logic for handling errors\u001b[39;00m\n\u001b[32m--> \u001b[39m\u001b[32m153\u001b[39m     \u001b[43m_retry_error_helper\u001b[49m\u001b[43m(\u001b[49m\n\u001b[32m    154\u001b[39m \u001b[43m        \u001b[49m\u001b[43mexc\u001b[49m\u001b[43m,\u001b[49m\n\u001b[32m    155\u001b[39m \u001b[43m        \u001b[49m\u001b[43mdeadline\u001b[49m\u001b[43m,\u001b[49m\n\u001b[32m    156\u001b[39m \u001b[43m        \u001b[49m\u001b[43msleep\u001b[49m\u001b[43m,\u001b[49m\n\u001b[32m    157\u001b[39m \u001b[43m        \u001b[49m\u001b[43merror_list\u001b[49m\u001b[43m,\u001b[49m\n\u001b[32m    158\u001b[39m \u001b[43m        \u001b[49m\u001b[43mpredicate\u001b[49m\u001b[43m,\u001b[49m\n\u001b[32m    159\u001b[39m \u001b[43m        \u001b[49m\u001b[43mon_error\u001b[49m\u001b[43m,\u001b[49m\n\u001b[32m    160\u001b[39m \u001b[43m        \u001b[49m\u001b[43mexception_factory\u001b[49m\u001b[43m,\u001b[49m\n\u001b[32m    161\u001b[39m \u001b[43m        \u001b[49m\u001b[43mtimeout\u001b[49m\u001b[43m,\u001b[49m\n\u001b[32m    162\u001b[39m \u001b[43m    \u001b[49m\u001b[43m)\u001b[49m\n\u001b[32m    163\u001b[39m     \u001b[38;5;66;03m# if exception not raised, sleep before next attempt\u001b[39;00m\n",
      "\u001b[36mFile \u001b[39m\u001b[32m/opt/homebrew/Caskroom/miniconda/base/envs/data_aquisition/lib/python3.13/site-packages/google/api_core/retry/retry_base.py:212\u001b[39m, in \u001b[36m_retry_error_helper\u001b[39m\u001b[34m(exc, deadline, next_sleep, error_list, predicate_fn, on_error_fn, exc_factory_fn, original_timeout)\u001b[39m\n\u001b[32m    207\u001b[39m     final_exc, source_exc = exc_factory_fn(\n\u001b[32m    208\u001b[39m         error_list,\n\u001b[32m    209\u001b[39m         RetryFailureReason.NON_RETRYABLE_ERROR,\n\u001b[32m    210\u001b[39m         original_timeout,\n\u001b[32m    211\u001b[39m     )\n\u001b[32m--> \u001b[39m\u001b[32m212\u001b[39m     \u001b[38;5;28;01mraise\u001b[39;00m final_exc \u001b[38;5;28;01mfrom\u001b[39;00m\u001b[38;5;250m \u001b[39m\u001b[34;01msource_exc\u001b[39;00m\n\u001b[32m    213\u001b[39m \u001b[38;5;28;01mif\u001b[39;00m on_error_fn \u001b[38;5;129;01mis\u001b[39;00m \u001b[38;5;129;01mnot\u001b[39;00m \u001b[38;5;28;01mNone\u001b[39;00m:\n",
      "\u001b[36mFile \u001b[39m\u001b[32m/opt/homebrew/Caskroom/miniconda/base/envs/data_aquisition/lib/python3.13/site-packages/google/api_core/retry/retry_unary.py:144\u001b[39m, in \u001b[36mretry_target\u001b[39m\u001b[34m(target, predicate, sleep_generator, timeout, on_error, exception_factory, **kwargs)\u001b[39m\n\u001b[32m    143\u001b[39m \u001b[38;5;28;01mtry\u001b[39;00m:\n\u001b[32m--> \u001b[39m\u001b[32m144\u001b[39m     result = \u001b[43mtarget\u001b[49m\u001b[43m(\u001b[49m\u001b[43m)\u001b[49m\n\u001b[32m    145\u001b[39m     \u001b[38;5;28;01mif\u001b[39;00m inspect.isawaitable(result):\n",
      "\u001b[36mFile \u001b[39m\u001b[32m/opt/homebrew/Caskroom/miniconda/base/envs/data_aquisition/lib/python3.13/site-packages/google/cloud/storage/_media/requests/download.py:262\u001b[39m, in \u001b[36mDownload.consume.<locals>.retriable_request\u001b[39m\u001b[34m()\u001b[39m\n\u001b[32m    258\u001b[39m     \u001b[38;5;28mself\u001b[39m._object_generation = _helpers._parse_generation_header(\n\u001b[32m    259\u001b[39m         result, \u001b[38;5;28mself\u001b[39m._get_headers\n\u001b[32m    260\u001b[39m     )\n\u001b[32m--> \u001b[39m\u001b[32m262\u001b[39m \u001b[38;5;28;43mself\u001b[39;49m\u001b[43m.\u001b[49m\u001b[43m_process_response\u001b[49m\u001b[43m(\u001b[49m\u001b[43mresult\u001b[49m\u001b[43m)\u001b[49m\n\u001b[32m    264\u001b[39m \u001b[38;5;66;03m# With decompressive transcoding, GCS serves back the whole file regardless of the range request,\u001b[39;00m\n\u001b[32m    265\u001b[39m \u001b[38;5;66;03m# thus we reset the stream position to the start of the stream.\u001b[39;00m\n\u001b[32m    266\u001b[39m \u001b[38;5;66;03m# See: https://cloud.google.com/storage/docs/transcoding#range\u001b[39;00m\n",
      "\u001b[36mFile \u001b[39m\u001b[32m/opt/homebrew/Caskroom/miniconda/base/envs/data_aquisition/lib/python3.13/site-packages/google/cloud/storage/_media/_download.py:232\u001b[39m, in \u001b[36mDownload._process_response\u001b[39m\u001b[34m(self, response)\u001b[39m\n\u001b[32m    231\u001b[39m \u001b[38;5;28mself\u001b[39m._finished = \u001b[38;5;28;01mTrue\u001b[39;00m\n\u001b[32m--> \u001b[39m\u001b[32m232\u001b[39m \u001b[43m_helpers\u001b[49m\u001b[43m.\u001b[49m\u001b[43mrequire_status_code\u001b[49m\u001b[43m(\u001b[49m\n\u001b[32m    233\u001b[39m \u001b[43m    \u001b[49m\u001b[43mresponse\u001b[49m\u001b[43m,\u001b[49m\u001b[43m \u001b[49m\u001b[43m_ACCEPTABLE_STATUS_CODES\u001b[49m\u001b[43m,\u001b[49m\u001b[43m \u001b[49m\u001b[38;5;28;43mself\u001b[39;49m\u001b[43m.\u001b[49m\u001b[43m_get_status_code\u001b[49m\n\u001b[32m    234\u001b[39m \u001b[43m\u001b[49m\u001b[43m)\u001b[49m\n",
      "\u001b[36mFile \u001b[39m\u001b[32m/opt/homebrew/Caskroom/miniconda/base/envs/data_aquisition/lib/python3.13/site-packages/google/cloud/storage/_media/_helpers.py:105\u001b[39m, in \u001b[36mrequire_status_code\u001b[39m\u001b[34m(response, status_codes, get_status_code, callback)\u001b[39m\n\u001b[32m    104\u001b[39m         callback()\n\u001b[32m--> \u001b[39m\u001b[32m105\u001b[39m     \u001b[38;5;28;01mraise\u001b[39;00m InvalidResponse(\n\u001b[32m    106\u001b[39m         response,\n\u001b[32m    107\u001b[39m         \u001b[33m\"\u001b[39m\u001b[33mRequest failed with status code\u001b[39m\u001b[33m\"\u001b[39m,\n\u001b[32m    108\u001b[39m         status_code,\n\u001b[32m    109\u001b[39m         \u001b[33m\"\u001b[39m\u001b[33mExpected one of\u001b[39m\u001b[33m\"\u001b[39m,\n\u001b[32m    110\u001b[39m         *status_codes\n\u001b[32m    111\u001b[39m     )\n\u001b[32m    112\u001b[39m \u001b[38;5;28;01mreturn\u001b[39;00m status_code\n",
      "\u001b[31mInvalidResponse\u001b[39m: ('Request failed with status code', 404, 'Expected one of', <HTTPStatus.OK: 200>, <HTTPStatus.PARTIAL_CONTENT: 206>)",
      "\nDuring handling of the above exception, another exception occurred:\n",
      "\u001b[31mNotFound\u001b[39m                                  Traceback (most recent call last)",
      "\u001b[36mCell\u001b[39m\u001b[36m \u001b[39m\u001b[32mIn[5]\u001b[39m\u001b[32m, line 4\u001b[39m\n\u001b[32m      1\u001b[39m key_list = [\u001b[33m'\u001b[39m\u001b[33mincident_datetime\u001b[39m\u001b[33m'\u001b[39m, \u001b[33m'\u001b[39m\u001b[33mreport_datetime\u001b[39m\u001b[33m'\u001b[39m, \u001b[33m'\u001b[39m\u001b[33mincident_code\u001b[39m\u001b[33m'\u001b[39m,\n\u001b[32m      2\u001b[39m             \u001b[33m'\u001b[39m\u001b[33mincident_category\u001b[39m\u001b[33m'\u001b[39m, \u001b[33m'\u001b[39m\u001b[33mincident_description\u001b[39m\u001b[33m'\u001b[39m, \u001b[33m'\u001b[39m\u001b[33mlatitude\u001b[39m\u001b[33m'\u001b[39m,\n\u001b[32m      3\u001b[39m             \u001b[33m'\u001b[39m\u001b[33mlongitude\u001b[39m\u001b[33m'\u001b[39m, \u001b[33m'\u001b[39m\u001b[33mpolice_district\u001b[39m\u001b[33m'\u001b[39m]\n\u001b[32m----> \u001b[39m\u001b[32m4\u001b[39m data = \u001b[43mretrieve_data_from_gcs\u001b[49m\u001b[43m(\u001b[49m\u001b[43mservice_account_key\u001b[49m\u001b[43m,\u001b[49m\u001b[43m \u001b[49m\n\u001b[32m      5\u001b[39m \u001b[43m                              \u001b[49m\u001b[43mproject_id\u001b[49m\u001b[43m,\u001b[49m\n\u001b[32m      6\u001b[39m \u001b[43m                              \u001b[49m\u001b[43mbucket_name\u001b[49m\u001b[43m,\u001b[49m\n\u001b[32m      7\u001b[39m \u001b[43m                              \u001b[49m\u001b[43mfile_name\u001b[49m\u001b[43m,\u001b[49m\n\u001b[32m      8\u001b[39m \u001b[43m                              \u001b[49m\u001b[43mkey_list\u001b[49m\u001b[43m)\u001b[49m\n",
      "\u001b[36mCell\u001b[39m\u001b[36m \u001b[39m\u001b[32mIn[4]\u001b[39m\u001b[32m, line 12\u001b[39m, in \u001b[36mretrieve_data_from_gcs\u001b[39m\u001b[34m(service_account_key, project_id, bucket_name, file_name, key_list)\u001b[39m\n\u001b[32m     10\u001b[39m bucket = client.bucket(bucket_name)\n\u001b[32m     11\u001b[39m file = bucket.blob(file_name)\n\u001b[32m---> \u001b[39m\u001b[32m12\u001b[39m content = json.loads(\u001b[43mfile\u001b[49m\u001b[43m.\u001b[49m\u001b[43mdownload_as_string\u001b[49m\u001b[43m(\u001b[49m\u001b[43m)\u001b[49m)\n\u001b[32m     14\u001b[39m output = []\n\u001b[32m     15\u001b[39m \u001b[38;5;28;01mfor\u001b[39;00m data \u001b[38;5;129;01min\u001b[39;00m content:\n",
      "\u001b[36mFile \u001b[39m\u001b[32m/opt/homebrew/Caskroom/miniconda/base/envs/data_aquisition/lib/python3.13/site-packages/google/cloud/storage/blob.py:1649\u001b[39m, in \u001b[36mBlob.download_as_string\u001b[39m\u001b[34m(self, client, start, end, raw_download, if_etag_match, if_etag_not_match, if_generation_match, if_generation_not_match, if_metageneration_match, if_metageneration_not_match, timeout, retry, single_shot_download)\u001b[39m\n\u001b[32m   1645\u001b[39m warnings.warn(\n\u001b[32m   1646\u001b[39m     _DOWNLOAD_AS_STRING_DEPRECATED, \u001b[38;5;167;01mPendingDeprecationWarning\u001b[39;00m, stacklevel=\u001b[32m2\u001b[39m\n\u001b[32m   1647\u001b[39m )\n\u001b[32m   1648\u001b[39m \u001b[38;5;28;01mwith\u001b[39;00m create_trace_span(name=\u001b[33m\"\u001b[39m\u001b[33mStorage.Blob.downloadAsString\u001b[39m\u001b[33m\"\u001b[39m):\n\u001b[32m-> \u001b[39m\u001b[32m1649\u001b[39m     \u001b[38;5;28;01mreturn\u001b[39;00m \u001b[38;5;28;43mself\u001b[39;49m\u001b[43m.\u001b[49m\u001b[43mdownload_as_bytes\u001b[49m\u001b[43m(\u001b[49m\n\u001b[32m   1650\u001b[39m \u001b[43m        \u001b[49m\u001b[43mclient\u001b[49m\u001b[43m=\u001b[49m\u001b[43mclient\u001b[49m\u001b[43m,\u001b[49m\n\u001b[32m   1651\u001b[39m \u001b[43m        \u001b[49m\u001b[43mstart\u001b[49m\u001b[43m=\u001b[49m\u001b[43mstart\u001b[49m\u001b[43m,\u001b[49m\n\u001b[32m   1652\u001b[39m \u001b[43m        \u001b[49m\u001b[43mend\u001b[49m\u001b[43m=\u001b[49m\u001b[43mend\u001b[49m\u001b[43m,\u001b[49m\n\u001b[32m   1653\u001b[39m \u001b[43m        \u001b[49m\u001b[43mraw_download\u001b[49m\u001b[43m=\u001b[49m\u001b[43mraw_download\u001b[49m\u001b[43m,\u001b[49m\n\u001b[32m   1654\u001b[39m \u001b[43m        \u001b[49m\u001b[43mif_etag_match\u001b[49m\u001b[43m=\u001b[49m\u001b[43mif_etag_match\u001b[49m\u001b[43m,\u001b[49m\n\u001b[32m   1655\u001b[39m \u001b[43m        \u001b[49m\u001b[43mif_etag_not_match\u001b[49m\u001b[43m=\u001b[49m\u001b[43mif_etag_not_match\u001b[49m\u001b[43m,\u001b[49m\n\u001b[32m   1656\u001b[39m \u001b[43m        \u001b[49m\u001b[43mif_generation_match\u001b[49m\u001b[43m=\u001b[49m\u001b[43mif_generation_match\u001b[49m\u001b[43m,\u001b[49m\n\u001b[32m   1657\u001b[39m \u001b[43m        \u001b[49m\u001b[43mif_generation_not_match\u001b[49m\u001b[43m=\u001b[49m\u001b[43mif_generation_not_match\u001b[49m\u001b[43m,\u001b[49m\n\u001b[32m   1658\u001b[39m \u001b[43m        \u001b[49m\u001b[43mif_metageneration_match\u001b[49m\u001b[43m=\u001b[49m\u001b[43mif_metageneration_match\u001b[49m\u001b[43m,\u001b[49m\n\u001b[32m   1659\u001b[39m \u001b[43m        \u001b[49m\u001b[43mif_metageneration_not_match\u001b[49m\u001b[43m=\u001b[49m\u001b[43mif_metageneration_not_match\u001b[49m\u001b[43m,\u001b[49m\n\u001b[32m   1660\u001b[39m \u001b[43m        \u001b[49m\u001b[43mtimeout\u001b[49m\u001b[43m=\u001b[49m\u001b[43mtimeout\u001b[49m\u001b[43m,\u001b[49m\n\u001b[32m   1661\u001b[39m \u001b[43m        \u001b[49m\u001b[43mretry\u001b[49m\u001b[43m=\u001b[49m\u001b[43mretry\u001b[49m\u001b[43m,\u001b[49m\n\u001b[32m   1662\u001b[39m \u001b[43m        \u001b[49m\u001b[43msingle_shot_download\u001b[49m\u001b[43m=\u001b[49m\u001b[43msingle_shot_download\u001b[49m\u001b[43m,\u001b[49m\n\u001b[32m   1663\u001b[39m \u001b[43m    \u001b[49m\u001b[43m)\u001b[49m\n",
      "\u001b[36mFile \u001b[39m\u001b[32m/opt/homebrew/Caskroom/miniconda/base/envs/data_aquisition/lib/python3.13/site-packages/google/cloud/storage/blob.py:1530\u001b[39m, in \u001b[36mBlob.download_as_bytes\u001b[39m\u001b[34m(self, client, start, end, raw_download, if_etag_match, if_etag_not_match, if_generation_match, if_generation_not_match, if_metageneration_match, if_metageneration_not_match, timeout, checksum, retry, single_shot_download)\u001b[39m\n\u001b[32m   1527\u001b[39m \u001b[38;5;28;01mwith\u001b[39;00m create_trace_span(name=\u001b[33m\"\u001b[39m\u001b[33mStorage.Blob.downloadAsBytes\u001b[39m\u001b[33m\"\u001b[39m):\n\u001b[32m   1528\u001b[39m     string_buffer = BytesIO()\n\u001b[32m-> \u001b[39m\u001b[32m1530\u001b[39m     \u001b[38;5;28;43mself\u001b[39;49m\u001b[43m.\u001b[49m\u001b[43m_prep_and_do_download\u001b[49m\u001b[43m(\u001b[49m\n\u001b[32m   1531\u001b[39m \u001b[43m        \u001b[49m\u001b[43mstring_buffer\u001b[49m\u001b[43m,\u001b[49m\n\u001b[32m   1532\u001b[39m \u001b[43m        \u001b[49m\u001b[43mclient\u001b[49m\u001b[43m=\u001b[49m\u001b[43mclient\u001b[49m\u001b[43m,\u001b[49m\n\u001b[32m   1533\u001b[39m \u001b[43m        \u001b[49m\u001b[43mstart\u001b[49m\u001b[43m=\u001b[49m\u001b[43mstart\u001b[49m\u001b[43m,\u001b[49m\n\u001b[32m   1534\u001b[39m \u001b[43m        \u001b[49m\u001b[43mend\u001b[49m\u001b[43m=\u001b[49m\u001b[43mend\u001b[49m\u001b[43m,\u001b[49m\n\u001b[32m   1535\u001b[39m \u001b[43m        \u001b[49m\u001b[43mraw_download\u001b[49m\u001b[43m=\u001b[49m\u001b[43mraw_download\u001b[49m\u001b[43m,\u001b[49m\n\u001b[32m   1536\u001b[39m \u001b[43m        \u001b[49m\u001b[43mif_etag_match\u001b[49m\u001b[43m=\u001b[49m\u001b[43mif_etag_match\u001b[49m\u001b[43m,\u001b[49m\n\u001b[32m   1537\u001b[39m \u001b[43m        \u001b[49m\u001b[43mif_etag_not_match\u001b[49m\u001b[43m=\u001b[49m\u001b[43mif_etag_not_match\u001b[49m\u001b[43m,\u001b[49m\n\u001b[32m   1538\u001b[39m \u001b[43m        \u001b[49m\u001b[43mif_generation_match\u001b[49m\u001b[43m=\u001b[49m\u001b[43mif_generation_match\u001b[49m\u001b[43m,\u001b[49m\n\u001b[32m   1539\u001b[39m \u001b[43m        \u001b[49m\u001b[43mif_generation_not_match\u001b[49m\u001b[43m=\u001b[49m\u001b[43mif_generation_not_match\u001b[49m\u001b[43m,\u001b[49m\n\u001b[32m   1540\u001b[39m \u001b[43m        \u001b[49m\u001b[43mif_metageneration_match\u001b[49m\u001b[43m=\u001b[49m\u001b[43mif_metageneration_match\u001b[49m\u001b[43m,\u001b[49m\n\u001b[32m   1541\u001b[39m \u001b[43m        \u001b[49m\u001b[43mif_metageneration_not_match\u001b[49m\u001b[43m=\u001b[49m\u001b[43mif_metageneration_not_match\u001b[49m\u001b[43m,\u001b[49m\n\u001b[32m   1542\u001b[39m \u001b[43m        \u001b[49m\u001b[43mtimeout\u001b[49m\u001b[43m=\u001b[49m\u001b[43mtimeout\u001b[49m\u001b[43m,\u001b[49m\n\u001b[32m   1543\u001b[39m \u001b[43m        \u001b[49m\u001b[43mchecksum\u001b[49m\u001b[43m=\u001b[49m\u001b[43mchecksum\u001b[49m\u001b[43m,\u001b[49m\n\u001b[32m   1544\u001b[39m \u001b[43m        \u001b[49m\u001b[43mretry\u001b[49m\u001b[43m=\u001b[49m\u001b[43mretry\u001b[49m\u001b[43m,\u001b[49m\n\u001b[32m   1545\u001b[39m \u001b[43m        \u001b[49m\u001b[43msingle_shot_download\u001b[49m\u001b[43m=\u001b[49m\u001b[43msingle_shot_download\u001b[49m\u001b[43m,\u001b[49m\n\u001b[32m   1546\u001b[39m \u001b[43m    \u001b[49m\u001b[43m)\u001b[49m\n\u001b[32m   1547\u001b[39m     \u001b[38;5;28;01mreturn\u001b[39;00m string_buffer.getvalue()\n",
      "\u001b[36mFile \u001b[39m\u001b[32m/opt/homebrew/Caskroom/miniconda/base/envs/data_aquisition/lib/python3.13/site-packages/google/cloud/storage/blob.py:4415\u001b[39m, in \u001b[36mBlob._prep_and_do_download\u001b[39m\u001b[34m(self, file_obj, client, start, end, raw_download, if_etag_match, if_etag_not_match, if_generation_match, if_generation_not_match, if_metageneration_match, if_metageneration_not_match, timeout, checksum, retry, single_shot_download, command)\u001b[39m\n\u001b[32m   4401\u001b[39m     \u001b[38;5;28mself\u001b[39m._do_download(\n\u001b[32m   4402\u001b[39m         transport,\n\u001b[32m   4403\u001b[39m         file_obj,\n\u001b[32m   (...)\u001b[39m\u001b[32m   4412\u001b[39m         single_shot_download=single_shot_download,\n\u001b[32m   4413\u001b[39m     )\n\u001b[32m   4414\u001b[39m \u001b[38;5;28;01mexcept\u001b[39;00m InvalidResponse \u001b[38;5;28;01mas\u001b[39;00m exc:\n\u001b[32m-> \u001b[39m\u001b[32m4415\u001b[39m     \u001b[43m_raise_from_invalid_response\u001b[49m\u001b[43m(\u001b[49m\u001b[43mexc\u001b[49m\u001b[43m)\u001b[49m\n",
      "\u001b[36mFile \u001b[39m\u001b[32m/opt/homebrew/Caskroom/miniconda/base/envs/data_aquisition/lib/python3.13/site-packages/google/cloud/storage/blob.py:4887\u001b[39m, in \u001b[36m_raise_from_invalid_response\u001b[39m\u001b[34m(error)\u001b[39m\n\u001b[32m   4883\u001b[39m     error_message = \u001b[38;5;28mstr\u001b[39m(error)\n\u001b[32m   4885\u001b[39m message = \u001b[33mf\u001b[39m\u001b[33m\"\u001b[39m\u001b[38;5;132;01m{\u001b[39;00mresponse.request.method\u001b[38;5;132;01m}\u001b[39;00m\u001b[33m \u001b[39m\u001b[38;5;132;01m{\u001b[39;00mresponse.request.url\u001b[38;5;132;01m}\u001b[39;00m\u001b[33m: \u001b[39m\u001b[38;5;132;01m{\u001b[39;00merror_message\u001b[38;5;132;01m}\u001b[39;00m\u001b[33m\"\u001b[39m\n\u001b[32m-> \u001b[39m\u001b[32m4887\u001b[39m \u001b[38;5;28;01mraise\u001b[39;00m exceptions.from_http_status(response.status_code, message, response=response)\n",
      "\u001b[31mNotFound\u001b[39m: 404 GET https://storage.googleapis.com/download/storage/v1/b/msds692-class-example-bjm/o/sf_police_report%2F2025-09-01.json?alt=media: No such object: msds692-class-example-bjm/sf_police_report/2025-09-01.json: ('Request failed with status code', 404, 'Expected one of', <HTTPStatus.OK: 200>, <HTTPStatus.PARTIAL_CONTENT: 206>)"
     ]
    }
   ],
   "source": [
    "key_list = ['incident_datetime', 'report_datetime', 'incident_code',\n",
    "            'incident_category', 'incident_description', 'latitude',\n",
    "            'longitude', 'police_district']\n",
    "data = retrieve_data_from_gcs(service_account_key, \n",
    "                              project_id,\n",
    "                              bucket_name,\n",
    "                              file_name,\n",
    "                              key_list)"
   ]
  },
  {
   "cell_type": "code",
   "execution_count": null,
   "id": "45059b57",
   "metadata": {},
   "outputs": [],
   "source": [
    "filtered_data = [row[-4:] for row in data][:20]"
   ]
  },
  {
   "cell_type": "code",
   "execution_count": null,
   "id": "eba47b22",
   "metadata": {},
   "outputs": [],
   "source": [
    "client = genai.Client()"
   ]
  },
  {
   "cell_type": "code",
   "execution_count": null,
   "id": "1aa313b9",
   "metadata": {},
   "outputs": [],
   "source": [
    "model_name = \"gemini-2.5-flash\""
   ]
  },
  {
   "cell_type": "code",
   "execution_count": null,
   "id": "3a59cb15",
   "metadata": {},
   "outputs": [],
   "source": [
    "prompt_content = f\"There has been a police report\\\n",
    "on the following list of [description, lon, lat, district] : {filtered_data} recently.\\\n",
    "Summarize the reports\""
   ]
  },
  {
   "cell_type": "code",
   "execution_count": null,
   "id": "657e8eca",
   "metadata": {},
   "outputs": [],
   "source": [
    "response = client.models.generate_content(\n",
    "    model=model_name,\n",
    "    contents=prompt_content\n",
    ")"
   ]
  },
  {
   "cell_type": "code",
   "execution_count": null,
   "id": "0ce65a55",
   "metadata": {},
   "outputs": [
    {
     "data": {
      "text/plain": [
       "'A total of **20 police reports** were recently filed, covering a diverse range of incidents across several districts.\\n\\n**Key Trends and Categories:**\\n\\n1.  **Vehicle-Related Incidents (7 reports):** This is the most common category, including:\\n    *   **Theft from Vehicles:** 3 instances of \"Theft, From Locked Vehicle, >$950\" (Northern, Southern, Park) and 1 instance of \"Theft, From Unlocked Vehicle, >$950\" (Southern).\\n    *   1 \"Vehicle, Stolen, Other Vehicle\" (Park).\\n    *   1 \"Vehicle, Recovered, Auto\" (Out of SF).\\n    *   1 \"Arson of Vehicle\" (Tenderloin).\\n\\n2.  **Property Crimes (Excluding Vehicle Theft) (3 reports):**\\n    *   2 \"Lost Property\" reports (Park, Tenderloin).\\n    *   1 \"Malicious Mischief, Vandalism to Property\" (Taraval).\\n\\n3.  **Assault, Disorder, and Other Interpersonal Incidents (6 reports):**\\n    *   1 \"Battery\" (Park).\\n    *   1 \"False Personation\" (Park).\\n    *   1 \"Resisting, Delaying, or Obstructing Peace Officer Duties\" (Mission).\\n    *   1 \"Evading a Police Officer Recklessly\" (Southern).\\n    *   1 \"Terrorist Threats\" (Central).\\n    *   1 \"Phone Calls, Harassing\" (Southern).\\n\\n4.  **Drug Offenses (1 report):**\\n    *   1 \"Methamphetamine Offense\" (Tenderloin).\\n\\n5.  **Miscellaneous (3 reports):**\\n    *   1 \"Miscellaneous Investigation\" (Taraval).\\n    *   1 \"Warrant Arrest, Enroute To Adult Authority\" (Tenderloin).\\n    *   1 \"Suspicious Occurrence\" (Southern).\\n\\n**Geographic Distribution:**\\n\\n*   The **Southern District** had the highest number of reports with 6 incidents.\\n*   The **Park District** followed closely with 5 incidents.\\n*   The **Tenderloin District** reported 4 incidents.\\n*   **Taraval** had 2 reports, while **Northern, Mission, and Central** each had 1.\\n*   One report was noted as \"Out of SF.\"\\n\\n**Missing Information:**\\nThree reports lacked specific latitude and longitude coordinates: \\'Vehicle, Recovered, Auto\\', \\'Theft, From Unlocked Vehicle, >$950\\', and one \\'Lost Property\\' report.'"
      ]
     },
     "execution_count": 11,
     "metadata": {},
     "output_type": "execute_result"
    }
   ],
   "source": [
    "response.text"
   ]
  },
  {
   "cell_type": "code",
   "execution_count": null,
   "id": "c341815f",
   "metadata": {},
   "outputs": [],
   "source": []
  }
 ],
 "metadata": {
  "kernelspec": {
   "display_name": "data_aquisition",
   "language": "python",
   "name": "python3"
  },
  "language_info": {
   "codemirror_mode": {
    "name": "ipython",
    "version": 3
   },
   "file_extension": ".py",
   "mimetype": "text/x-python",
   "name": "python",
   "nbconvert_exporter": "python",
   "pygments_lexer": "ipython3",
   "version": "3.13.5"
  }
 },
 "nbformat": 4,
 "nbformat_minor": 5
}
